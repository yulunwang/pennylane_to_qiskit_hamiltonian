{
 "cells": [
  {
   "cell_type": "code",
   "execution_count": 1,
   "metadata": {},
   "outputs": [],
   "source": [
    "def to_qiskit_hamiltonian(hamiltonian, noq=None):\n",
    "    \"\"\"\n",
    "    \n",
    "    Input: \n",
    "        Pennylane Hamiltonan: hamiltonian\n",
    "        Number of qubits: noq\n",
    "    \n",
    "    Return: \n",
    "        QISKit Hamiltonian: qubit_op \n",
    "    \n",
    "    \"\"\"\n",
    "    \n",
    "    from pennylane.operation import Observable, Tensor\n",
    "    from qiskit.aqua.operators import WeightedPauliOperator\n",
    "    \n",
    "    OBS_MAP = {\"PauliX\": \"X\", \"PauliY\": \"Y\", \"PauliZ\": \"Z\", \"Hadamard\": \"H\", \"Identity\": \"I\"}\n",
    "    pauli_dict= {\"paulis\": []}\n",
    "    \n",
    "    if len(hamiltonian.coeffs) != len(hamiltonian.ops):\n",
    "        raise ValueError(\"Could not create valid Hamiltonian; \"\n",
    "                \"number of coefficients and operators does not match.\")\n",
    "\n",
    "    for obs in hamiltonian.ops:\n",
    "        if not isinstance(obs, Observable):\n",
    "            raise ValueError(\"Could not create circuits. Some or all observables are not valid.\")             \n",
    "                \n",
    "    for i, obs in enumerate(hamiltonian.ops):\n",
    "        if isinstance(obs, Tensor):\n",
    "            pauli_term = [\"I\"] * noq\n",
    "            for j in obs.obs:\n",
    "                pauli_term[j.wires[0]] = OBS_MAP[j.name]\n",
    "        \n",
    "        elif isinstance(obs, Observable):\n",
    "            pauli_term = [\"I\"] * noq\n",
    "            pauli_term[obs.wires[0]] = OBS_MAP[obs.name]\n",
    "            \n",
    "        term = \"\".join(pauli_term)\n",
    "        op = {\"label\": term}\n",
    "        \n",
    "        op[\"coeff\"] = {\"real\": np.real(hamiltonian.coeffs[i]),\"imag\": np.imag(hamiltonian.coeffs[i])}\n",
    "             \n",
    "        pauli_dict[\"paulis\"].append(op)\n",
    "        \n",
    "    qubit_op = WeightedPauliOperator.from_dict(pauli_dict)\n",
    "    \n",
    "    return qubit_op"
   ]
  }
 ],
 "metadata": {
  "kernelspec": {
   "display_name": "Python 3",
   "language": "python",
   "name": "python3"
  },
  "language_info": {
   "codemirror_mode": {
    "name": "ipython",
    "version": 3
   },
   "file_extension": ".py",
   "mimetype": "text/x-python",
   "name": "python",
   "nbconvert_exporter": "python",
   "pygments_lexer": "ipython3",
   "version": "3.7.1"
  }
 },
 "nbformat": 4,
 "nbformat_minor": 2
}
